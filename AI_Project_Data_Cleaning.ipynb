{
 "cells": [
  {
   "cell_type": "code",
   "execution_count": 258,
   "metadata": {},
   "outputs": [
    {
     "name": "stdout",
     "output_type": "stream",
     "text": [
      "Here is a list of the Generes to choose from..\n",
      ".DS_Store\n",
      "Christian\n",
      "Classic Rock\n",
      "Country\n",
      "Dance\n",
      "Pop\n",
      "Rap\n"
     ]
    }
   ],
   "source": [
    "import pandas as pd\n",
    "import numpy as np\n",
    "import glob, os\n",
    "from os import listdir\n",
    "#This line of code will read in all the artist to choose from\n",
    "x=os.listdir(\"/Users/benjamingarlington/Desktop/AI_research_group_project/Song_Lyrics\")\n",
    "print(\"Here is a list of the Generes to choose from..\")\n",
    "for i in x:\n",
    "    print(i)"
   ]
  },
  {
   "cell_type": "code",
   "execution_count": 259,
   "metadata": {},
   "outputs": [
    {
     "name": "stdout",
     "output_type": "stream",
     "text": [
      "\n",
      "Hello, user. \n",
      "\n",
      "Please type in the name of your Genere and press 'Enter': Rap\n",
      "Here is a list of the Artist to choose from..\n",
      ".DS_Store\n",
      "50_Cent\n",
      "Eminem\n",
      "Jay-Z\n"
     ]
    }
   ],
   "source": [
    "#This block of code asks the user to choose which genere the lyrics will come from\n",
    "genere = input(\"\\nHello, user. \"\"\\n\\nPlease type in the name of your Genere and press 'Enter': \")\n",
    "y=os.listdir(\"/Users/benjamingarlington/Desktop/AI_research_group_project/Song_Lyrics/%s\" %genere)\n",
    "print(\"Here is a list of the Artist to choose from..\")\n",
    "for i in y:\n",
    "    print(i)"
   ]
  },
  {
   "cell_type": "code",
   "execution_count": 261,
   "metadata": {},
   "outputs": [
    {
     "name": "stdout",
     "output_type": "stream",
     "text": [
      "\n",
      "Hello, user. \n",
      "\n",
      "Please type in the name of your Artist and press 'Enter': Jay-Z\n",
      ".DS_Store\n",
      "Jay-Z - Ain_t No Nigga.rtf\n",
      "Jay-Z - Big Pimpin.rtf\n",
      "Jay-Z - Niggas in Paris.rtf\n",
      "Jay-Z - Reneage.rtf\n",
      "Jay-Z - The Story of O.J..rtf\n"
     ]
    }
   ],
   "source": [
    "#This block of code asks the user to choose which artist the lyrics will come from\n",
    "\n",
    "filename = input(\"\\nHello, user. \"\"\\n\\nPlease type in the name of your Artist and press 'Enter': \")\n",
    "z=os.listdir(\"/Users/benjamingarlington/Desktop/AI_research_group_project/Song_Lyrics/%s/%s\" %(genere,filename))\n",
    "for i in z:\n",
    "    print(i)"
   ]
  },
  {
   "cell_type": "code",
   "execution_count": 262,
   "metadata": {},
   "outputs": [
    {
     "name": "stdout",
     "output_type": "stream",
     "text": [
      "\n",
      "Hello, user. Please type in the name of your song and press 'Enter': Jay-Z - The Story of O.J..rtf\n",
      "\n",
      "\n",
      "\n",
      "{\\rtf1\\ansi\\ansicpg1252\\cocoartf1504\\cocoasubrtf830\n",
      "{\\fonttbl\\f0\\fswiss\\fcharset0 helvetica;}\n",
      "{\\colortbl;\\red255\\green255\\blue255;\\red0\\green0\\blue0;}\n",
      "{\\*\\expandedcolortbl;;\\cssrgb\\c0\\c0\\c0;}\n",
      "\\margl1440\\margr1440\\vieww10800\\viewh8400\\viewkind0\n",
      "\\deftab720\n",
      "\\pard\\pardeftab720\\sl320\\partightenfactor0\n",
      "\n",
      "\\f0\\fs24 \\cf2 \\expnd0\\expndtw0\\kerning0\n",
      "\\outl0\\strokewidth0 \\strokec2 \"the story of o j \"\\\n",
      "\\\n",
      "(skin is skin is\\\n",
      "skin black my skin is black\\\n",
      "my black my skin is yellow)\\\n",
      "\\\n",
      "light nigga dark nigga faux nigga real nigga\\\n",
      "rich nigga poor nigga house nigga field nigga\\\n",
      "still nigga still nigga\\\n",
      "i like that second one\\\n",
      "light nigga dark nigga faux nigga real nigga\\\n",
      "rich nigga poor nigga house nigga field nigga\\\n",
      "still nigga still nigga\\\n",
      "\\\n",
      "o j like \"i'm not black i'm o j \" okay\\\n",
      "house nigga don't fuck with me\\\n",
      "i'm a field nigga with shined cutlery\\\n",
      "gold-plated quarters where the butlers be\\\n",
      "i'mma play the corners where the hustlers be\\\n",
      "i told him \"please don't die over the neighborhood\\\n",
      "that your mama rentin'\\\n",
      "take your drug money and buy the neighborhood\\\n",
      "that's how you rinse it\"\\\n",
      "i bought every v12 engine\\\n",
      "wish i could take it back to the beginnin'\\\n",
      "i coulda bought a place in dumbo before it was dumbo\\\n",
      "for like million\\\n",
      "that same building today is worth million\\\n",
      "guess how i'm feelin'? dumbo\\\n",
      "\\\n",
      "light nigga dark nigga faux nigga real nigga\\\n",
      "rich nigga poor nigga house nigga field nigga\\\n",
      "still nigga still nigga\\\n",
      "light nigga dark nigga faux nigga real nigga\\\n",
      "rich nigga poor nigga house nigga field nigga\\\n",
      "still nigga still nigga\\\n",
      "\\\n",
      "you wanna know what's more important than throwin' away money at a strip club? credit\\\n",
      "you ever wonder why jewish people own all the property in america? this how they did it\\\n",
      "financial freedom my only hope\\\n",
      "fuck livin' rich and dyin' broke\\\n",
      "i bought some artwork for million\\\n",
      "years later that shit worth million\\\n",
      "few years later that shit worth million\\\n",
      "i can't wait to give this shit to my children\\\n",
      "y'all think it's bougie i'm like it's fine\\\n",
      "but i'm tryin' to give you a million dollars worth of game for 99\\\n",
      "i turned that to a to an\n",
      "i turned my life into a nice first week release date\\\n",
      "y'all out here still takin' advances huh?\\\n",
      "me and my niggas takin' real chances uh\\\n",
      "y'all on the 'gram holdin' money to your ear\\\n",
      "there's a disconnect we don't call that money over here yeah\\\n",
      "\\\n",
      "light nigga dark nigga faux nigga real nigga\\\n",
      "rich nigga poor nigga house nigga field nigga\\\n",
      "still nigga still nigga\\\n",
      "light nigga dark nigga faux nigga real nigga\\\n",
      "rich nigga poor nigga house nigga field nigga\\\n",
      "still nigga still nigga\\\n",
      "}\n"
     ]
    }
   ],
   "source": [
    "#This block of code will ask the user to choose which song lyrics to ananlyze and clean\n",
    "song = input(\"\\nHello, user. Please type in the name of your song and press 'Enter': \")\n",
    "file = open(\"/Users/benjamingarlington/Desktop/AI_research_group_project/Song_Lyrics/%s/%s/%s\" %(genere,filename,song),encoding=\"utf-8\")\n",
    "print(\"\\n\\n\")\n",
    "import re\n",
    "\n",
    "def is_digit(word):\n",
    "    try:\n",
    "        int(word)\n",
    "        return True\n",
    "    except ValueError:\n",
    "        return False\n",
    "\n",
    "cedilla2latin = [[u'Á', u'A'], [u'á', u'a'], [u'Č', u'C'], [u'č', u'c'], [u'Š', u'S'], [u'š', u's']]\n",
    "tr = dict([(a[0], a[1]) for (a) in cedilla2latin])\n",
    "\n",
    "# Now only lowercase and special characters remain. As lowercase only supports Latin letters, the special \n",
    "#characters need to be turned to Latin. This can be done using Transliterate Python package.\n",
    "def transliterate(line):\n",
    "    new_line = \"\"\n",
    "    for letter in line:\n",
    "        if letter in tr:\n",
    "            new_line += tr[letter]\n",
    "        else:\n",
    "            new_line += letter\n",
    "    return new_line\n",
    "\n",
    "    \n",
    "for line in file:\n",
    "    # decode line to worrk with utf8 symbols\n",
    "    #line = line.decode('utf-8')\n",
    "    line = line.replace('+', ' ').replace('.', ' ').replace(',', ' ').replace(':', ' ')\n",
    "    # remove digits with regex\n",
    "    line = re.sub(\"(^|\\W)\\d+($|\\W)\", \" \", line)\n",
    "    # OR remove digits with casting to int\n",
    "    new_line = []\n",
    "    for word in line.split():\n",
    "        if not is_digit(word):\n",
    "            new_line.append(word)\n",
    "    line = \" \".join(new_line)\n",
    "    # transliterate to Latin characters\n",
    "    line = transliterate(line)\n",
    "    line = line.lower()\n",
    "    print(line)"
   ]
  },
  {
   "cell_type": "code",
   "execution_count": null,
   "metadata": {
    "collapsed": true
   },
   "outputs": [],
   "source": []
  },
  {
   "cell_type": "code",
   "execution_count": null,
   "metadata": {
    "collapsed": true
   },
   "outputs": [],
   "source": []
  }
 ],
 "metadata": {
  "kernelspec": {
   "display_name": "Python [Root]",
   "language": "python",
   "name": "Python [Root]"
  },
  "language_info": {
   "codemirror_mode": {
    "name": "ipython",
    "version": 3
   },
   "file_extension": ".py",
   "mimetype": "text/x-python",
   "name": "python",
   "nbconvert_exporter": "python",
   "pygments_lexer": "ipython3",
   "version": "3.5.3"
  }
 },
 "nbformat": 4,
 "nbformat_minor": 2
}
