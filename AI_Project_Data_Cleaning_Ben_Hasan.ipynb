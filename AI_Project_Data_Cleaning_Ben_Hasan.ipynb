{
 "cells": [
  {
   "cell_type": "code",
   "execution_count": 263,
   "metadata": {},
   "outputs": [
    {
     "name": "stdout",
     "output_type": "stream",
     "text": [
      "Here is a list of the Generes to choose from..\n",
      ".DS_Store\n",
      "Christian\n",
      "Classic Rock\n",
      "Country\n",
      "Dance\n",
      "Pop\n",
      "Rap\n"
     ]
    }
   ],
   "source": [
    "import pandas as pd\n",
    "import numpy as np\n",
    "import glob, os\n",
    "from os import listdir\n",
    "#This line of code will read in all the artist to choose from\n",
    "x=os.listdir(\"/Users/benjamingarlington/Desktop/AI_research_group_project/Song_Lyrics\")\n",
    "print(\"Here is a list of the Generes to choose from..\")\n",
    "for i in x:\n",
    "    print(i)"
   ]
  },
  {
   "cell_type": "code",
   "execution_count": 264,
   "metadata": {},
   "outputs": [
    {
     "name": "stdout",
     "output_type": "stream",
     "text": [
      "\n",
      "Hello, user. \n",
      "\n",
      "Please type in the name of your Genere and press 'Enter': Pop\n",
      "Here is a list of the Artist to choose from..\n",
      ".DS_Store\n",
      "Ariana Grande\n",
      "Black Eyed Peas\n",
      "Michael Jackson\n"
     ]
    }
   ],
   "source": [
    "#This block of code asks the user to choose which genere the lyrics will come from\n",
    "genere = input(\"\\nHello, user. \"\"\\n\\nPlease type in the name of your Genere and press 'Enter': \")\n",
    "y=os.listdir(\"/Users/benjamingarlington/Desktop/AI_research_group_project/Song_Lyrics/%s\" %genere)\n",
    "print(\"Here is a list of the Artist to choose from..\")\n",
    "for i in y:\n",
    "    print(i)"
   ]
  },
  {
   "cell_type": "code",
   "execution_count": 265,
   "metadata": {},
   "outputs": [
    {
     "name": "stdout",
     "output_type": "stream",
     "text": [
      "\n",
      "Hello, user. \n",
      "\n",
      "Please type in the name of your Artist and press 'Enter': Ariana Grande\n",
      "Almost Is Never Enough.txt\n",
      "Moonlight.txt\n",
      "Pink Champagne.txt\n",
      "Side to Side.txt\n",
      "Suitcase.txt\n"
     ]
    }
   ],
   "source": [
    "#This block of code asks the user to choose which artist the lyrics will come from\n",
    "\n",
    "filename = input(\"\\nHello, user. \"\"\\n\\nPlease type in the name of your Artist and press 'Enter': \")\n",
    "z=os.listdir(\"/Users/benjamingarlington/Desktop/AI_research_group_project/Song_Lyrics/%s/%s\" %(genere,filename))\n",
    "for i in z:\n",
    "    print(i)"
   ]
  },
  {
   "cell_type": "code",
   "execution_count": 266,
   "metadata": {},
   "outputs": [
    {
     "name": "stdout",
     "output_type": "stream",
     "text": [
      "\n",
      "Hello, user. Please type in the name of your song and press 'Enter': Moonlight.txt\n",
      "\n",
      "\n",
      "\n",
      "\n",
      "\n",
      "the sun is setting\n",
      "and you're right here by my side\n",
      "and the movie is playing\n",
      "but we won't be watching tonight\n",
      "\n",
      "every look every touch\n",
      "makes me wanna give you my heart\n",
      "i'd be crushin' on you baby\n",
      "stay the way you are\n",
      "\n",
      "'cause i never knew i never knew\n",
      "you could hold moonlight in your hands\n",
      "'til the night i held you\n",
      "you're my moonlight\n",
      "moonlight\n",
      "\n",
      "i kiss his fingertips\n",
      "as i'm wishing he's all mine\n",
      "he's giving me elvis\n",
      "with some james dean in his eyes\n",
      "\n",
      "puts his lips on my neck\n",
      "makes me want to give him my body\n",
      "i'd be fallin' for you baby\n",
      "and i just can't stop\n",
      "\n",
      "'cause i never knew i never knew\n",
      "you could hold moonlight in your hands\n",
      "'til the night i held you\n",
      "you're my moonlight\n",
      "moonlight\n",
      "\n",
      "baby i'd be fallin'\n",
      "you're my moonlight\n",
      "moonlight\n",
      "\n",
      "he's so bossy\n",
      "he makes me dance\n",
      "tryna sit in the back of his whip\n",
      "and just cancel my plans\n",
      "sweet like candy\n",
      "but he's such a man\n",
      "he knows just what it does\n",
      "when he's holding me tight\n",
      "and he calls me \"moonlight\" too\n",
      "\n"
     ]
    }
   ],
   "source": [
    "#This block of code will ask the user to choose which song lyrics to ananlyze and clean\n",
    "song = input(\"\\nHello, user. Please type in the name of your song and press 'Enter': \")\n",
    "file = open(\"/Users/benjamingarlington/Desktop/AI_research_group_project/Song_Lyrics/%s/%s/%s\" %(genere,filename,song),encoding=\"utf-8\")\n",
    "print(\"\\n\\n\")\n",
    "import re\n",
    "\n",
    "def is_digit(word):\n",
    "    try:\n",
    "        int(word)\n",
    "        return True\n",
    "    except ValueError:\n",
    "        return False\n",
    "\n",
    "cedilla2latin = [[u'Á', u'A'], [u'á', u'a'], [u'Č', u'C'], [u'č', u'c'], [u'Š', u'S'], [u'š', u's']]\n",
    "tr = dict([(a[0], a[1]) for (a) in cedilla2latin])\n",
    "\n",
    "# Now only lowercase and special characters remain. As lowercase only supports Latin letters, the special \n",
    "#characters need to be turned to Latin. This can be done using Transliterate Python package.\n",
    "def transliterate(line):\n",
    "    new_line = \"\"\n",
    "    for letter in line:\n",
    "        if letter in tr:\n",
    "            new_line += tr[letter]\n",
    "        else:\n",
    "            new_line += letter\n",
    "    return new_line\n",
    "\n",
    "    \n",
    "for line in file:\n",
    "    # decode line to worrk with utf8 symbols\n",
    "    #line = line.decode('utf-8')\n",
    "    line = line.replace('+', ' ').replace('.', ' ').replace(',', ' ').replace(':', ' ')\n",
    "    # remove digits with regex\n",
    "    line = re.sub(\"(^|\\W)\\d+($|\\W)\", \" \", line)\n",
    "    # OR remove digits with casting to int\n",
    "    new_line = []\n",
    "    for word in line.split():\n",
    "        if not is_digit(word):\n",
    "            new_line.append(word)\n",
    "    line = \" \".join(new_line)\n",
    "    # transliterate to Latin characters\n",
    "    line = transliterate(line)\n",
    "    line = line.lower()\n",
    "    print(line)"
   ]
  },
  {
   "cell_type": "code",
   "execution_count": null,
   "metadata": {
    "collapsed": true
   },
   "outputs": [],
   "source": []
  },
  {
   "cell_type": "code",
   "execution_count": null,
   "metadata": {
    "collapsed": true
   },
   "outputs": [],
   "source": []
  }
 ],
 "metadata": {
  "kernelspec": {
   "display_name": "Python [Root]",
   "language": "python",
   "name": "Python [Root]"
  },
  "language_info": {
   "codemirror_mode": {
    "name": "ipython",
    "version": 3
   },
   "file_extension": ".py",
   "mimetype": "text/x-python",
   "name": "python",
   "nbconvert_exporter": "python",
   "pygments_lexer": "ipython3",
   "version": "3.5.3"
  }
 },
 "nbformat": 4,
 "nbformat_minor": 2
}
