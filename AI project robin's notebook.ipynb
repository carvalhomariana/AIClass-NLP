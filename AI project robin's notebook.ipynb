{
 "cells": [
  {
   "cell_type": "code",
   "execution_count": 4,
   "metadata": {},
   "outputs": [],
   "source": [
    "with open(\"/Users/robinghosh/test/aiProject/50CentCandyShop.txt\") as file:\n",
    "    lines = []\n",
    "    for line in file:\n",
    "        # The rstrip method gets rid of the \"\\n\" at the end of each line\n",
    "        lines.append(line.rstrip().split(\",\"))"
   ]
  },
  {
   "cell_type": "code",
   "execution_count": 7,
   "metadata": {},
   "outputs": [
    {
     "data": {
      "text/plain": [
       "[['{\\\\rtf1\\\\ansi\\\\ansicpg1252\\\\cocoartf1504\\\\cocoasubrtf830'],\n",
       " ['{\\\\fonttbl\\\\f0\\\\fswiss\\\\fcharset0 Helvetica;}'],\n",
       " ['{\\\\colortbl;\\\\red255\\\\green255\\\\blue255;\\\\red0\\\\green0\\\\blue0;}'],\n",
       " ['{\\\\*\\\\expandedcolortbl;;\\\\cssrgb\\\\c0\\\\c0\\\\c0;}'],\n",
       " ['\\\\margl1440\\\\margr1440\\\\vieww10800\\\\viewh8400\\\\viewkind0'],\n",
       " ['\\\\deftab720'],\n",
       " ['\\\\pard\\\\pardeftab720\\\\sl320\\\\partightenfactor0'],\n",
       " [''],\n",
       " ['\\\\f0\\\\fs24 \\\\cf2 \\\\expnd0\\\\expndtw0\\\\kerning0'],\n",
       " ['\\\\outl0\\\\strokewidth0 \\\\strokec2 \"Candy Shop\"\\\\'],\n",
       " ['\\\\pard\\\\pardeftab720\\\\sl260\\\\partightenfactor0'],\n",
       " ['\\\\cf2 (feat. Olivia)\\\\'],\n",
       " ['\\\\pard\\\\pardeftab720\\\\sl320\\\\partightenfactor0'],\n",
       " ['\\\\cf2 \\\\'],\n",
       " ['Yeah...\\\\'],\n",
       " ['Uh huh\\\\'],\n",
       " ['So seductive\\\\'],\n",
       " ['\\\\'],\n",
       " [\"I'll take you to the candy shop\\\\\"],\n",
       " [\"I'll let you lick the lollipop\\\\\"],\n",
       " [\"Go 'head girl\", \" don't you stop\\\\\"],\n",
       " [\"Keep going 'til you hit the spot (woah)\\\\\"],\n",
       " ['[Olivia]\\\\'],\n",
       " [\"I'll take you to the candy shop\\\\\"],\n",
       " ['Boy one taste of what I got\\\\'],\n",
       " [\"I'll have you spending all you got\\\\\"],\n",
       " [\"Keep going 'til you hit the spot (woah)\\\\\"],\n",
       " ['\\\\'],\n",
       " ['You can have it your way', ' how do you want it\\\\'],\n",
       " [\"You gon' back that thing up or should i push up on it\\\\\"],\n",
       " ['Temperature rising', ' okay lets go to the next level\\\\'],\n",
       " ['Dance floor jam packed', ' hot as a teakettle\\\\'],\n",
       " [\"I'll break it down for you now\", \" baby it's simple\\\\\"],\n",
       " ['If you be a nympho', \" I'll be a nympho\\\\\"],\n",
       " ['In the hotel or in the back of the rental\\\\'],\n",
       " ['On the beach or in the park', \" it's whatever you into\\\\\"],\n",
       " ['Got the magic stick', \" I'm the love doctor\\\\\"],\n",
       " [\"Have your friends teasing you 'bout how sprung I gotcha\\\\\"],\n",
       " ['Wanna show me how you work it baby', ' no problem\\\\'],\n",
       " ['Get on top then get to bouncing round like a low rider\\\\'],\n",
       " [\"I'm a seasons vet when it come to this shit\\\\\"],\n",
       " ['After you work up a sweat you can play with the stick\\\\'],\n",
       " [\"I'm trying to explain baby the best way I can\\\\\"],\n",
       " ['I melt in your mouth girl', ' not in your hands (ha ha)\\\\'],\n",
       " ['\\\\'],\n",
       " ['Girl what we do (what we do)\\\\'],\n",
       " ['And where we do (and where we do)\\\\'],\n",
       " ['The things we do (things we do)\\\\'],\n",
       " ['Are just between me and you (oh yeah)\\\\'],\n",
       " ['\\\\'],\n",
       " ['Give it to me baby', ' nice and slow\\\\'],\n",
       " ['Climb on top', ' ride like you in the rodeo\\\\'],\n",
       " [\"You ain't never heard a sound like this before\\\\\"],\n",
       " [\"Cause I ain't never put it down like this before\\\\\"],\n",
       " ['Soon as I come through the door she get to pulling on my zipper\\\\'],\n",
       " [\"It's like it's a race who can get undressed quicker\\\\\"],\n",
       " [\"Isn't it ironic how erotic it is to watch em in thongs\\\\\"],\n",
       " [\"Had me thinking 'bout that ass after I'm gone\\\\\"],\n",
       " ['I touch the right spot at the right time\\\\'],\n",
       " ['Lights on or lights off', ' she like it from behind\\\\'],\n",
       " ['So seductive', ' you should see the way she wind\\\\'],\n",
       " ['Her hips in slow-mo on the floor when we grind\\\\'],\n",
       " [\"As Long as she ain't stopping\", \" homie I ain't stopping\\\\\"],\n",
       " ['Dripping wet with sweat man its on and popping\\\\'],\n",
       " ['All my champagne campaign', ' bottle after bottle its on\\\\'],\n",
       " [\"And we gon' sip 'til every bubble in every bottle is gone\\\\\"],\n",
       " ['}']]"
      ]
     },
     "execution_count": 7,
     "metadata": {},
     "output_type": "execute_result"
    }
   ],
   "source": [
    "lines"
   ]
  },
  {
   "cell_type": "code",
   "execution_count": 8,
   "metadata": {
    "collapsed": true
   },
   "outputs": [],
   "source": [
    "import csv\n",
    "\n",
    "with open('/Users/robinghosh/test/aiProject/50CentCandyShop.txt', newline='') as inputfile:\n",
    "    results = list(csv.reader(inputfile))"
   ]
  },
  {
   "cell_type": "code",
   "execution_count": 9,
   "metadata": {},
   "outputs": [
    {
     "data": {
      "text/plain": [
       "[['{\\\\rtf1\\\\ansi\\\\ansicpg1252\\\\cocoartf1504\\\\cocoasubrtf830'],\n",
       " ['{\\\\fonttbl\\\\f0\\\\fswiss\\\\fcharset0 Helvetica;}'],\n",
       " ['{\\\\colortbl;\\\\red255\\\\green255\\\\blue255;\\\\red0\\\\green0\\\\blue0;}'],\n",
       " ['{\\\\*\\\\expandedcolortbl;;\\\\cssrgb\\\\c0\\\\c0\\\\c0;}'],\n",
       " ['\\\\margl1440\\\\margr1440\\\\vieww10800\\\\viewh8400\\\\viewkind0'],\n",
       " ['\\\\deftab720'],\n",
       " ['\\\\pard\\\\pardeftab720\\\\sl320\\\\partightenfactor0'],\n",
       " [],\n",
       " ['\\\\f0\\\\fs24 \\\\cf2 \\\\expnd0\\\\expndtw0\\\\kerning0'],\n",
       " ['\\\\outl0\\\\strokewidth0 \\\\strokec2 \"Candy Shop\"\\\\'],\n",
       " ['\\\\pard\\\\pardeftab720\\\\sl260\\\\partightenfactor0'],\n",
       " ['\\\\cf2 (feat. Olivia)\\\\'],\n",
       " ['\\\\pard\\\\pardeftab720\\\\sl320\\\\partightenfactor0'],\n",
       " ['\\\\cf2 \\\\'],\n",
       " ['Yeah...\\\\'],\n",
       " ['Uh huh\\\\'],\n",
       " ['So seductive\\\\'],\n",
       " ['\\\\'],\n",
       " [\"I'll take you to the candy shop\\\\\"],\n",
       " [\"I'll let you lick the lollipop\\\\\"],\n",
       " [\"Go 'head girl\", \" don't you stop\\\\\"],\n",
       " [\"Keep going 'til you hit the spot (woah)\\\\\"],\n",
       " ['[Olivia]\\\\'],\n",
       " [\"I'll take you to the candy shop\\\\\"],\n",
       " ['Boy one taste of what I got\\\\'],\n",
       " [\"I'll have you spending all you got\\\\\"],\n",
       " [\"Keep going 'til you hit the spot (woah)\\\\\"],\n",
       " ['\\\\'],\n",
       " ['You can have it your way', ' how do you want it\\\\'],\n",
       " [\"You gon' back that thing up or should i push up on it\\\\\"],\n",
       " ['Temperature rising', ' okay lets go to the next level\\\\'],\n",
       " ['Dance floor jam packed', ' hot as a teakettle\\\\'],\n",
       " [\"I'll break it down for you now\", \" baby it's simple\\\\\"],\n",
       " ['If you be a nympho', \" I'll be a nympho\\\\\"],\n",
       " ['In the hotel or in the back of the rental\\\\'],\n",
       " ['On the beach or in the park', \" it's whatever you into\\\\\"],\n",
       " ['Got the magic stick', \" I'm the love doctor\\\\\"],\n",
       " [\"Have your friends teasing you 'bout how sprung I gotcha\\\\\"],\n",
       " ['Wanna show me how you work it baby', ' no problem\\\\'],\n",
       " ['Get on top then get to bouncing round like a low rider\\\\'],\n",
       " [\"I'm a seasons vet when it come to this shit\\\\\"],\n",
       " ['After you work up a sweat you can play with the stick\\\\'],\n",
       " [\"I'm trying to explain baby the best way I can\\\\\"],\n",
       " ['I melt in your mouth girl', ' not in your hands (ha ha)\\\\'],\n",
       " ['\\\\'],\n",
       " ['Girl what we do (what we do)\\\\'],\n",
       " ['And where we do (and where we do)\\\\'],\n",
       " ['The things we do (things we do)\\\\'],\n",
       " ['Are just between me and you (oh yeah)\\\\'],\n",
       " ['\\\\'],\n",
       " ['Give it to me baby', ' nice and slow\\\\'],\n",
       " ['Climb on top', ' ride like you in the rodeo\\\\'],\n",
       " [\"You ain't never heard a sound like this before\\\\\"],\n",
       " [\"Cause I ain't never put it down like this before\\\\\"],\n",
       " ['Soon as I come through the door she get to pulling on my zipper\\\\'],\n",
       " [\"It's like it's a race who can get undressed quicker\\\\\"],\n",
       " [\"Isn't it ironic how erotic it is to watch em in thongs\\\\\"],\n",
       " [\"Had me thinking 'bout that ass after I'm gone\\\\\"],\n",
       " ['I touch the right spot at the right time\\\\'],\n",
       " ['Lights on or lights off', ' she like it from behind\\\\'],\n",
       " ['So seductive', ' you should see the way she wind\\\\'],\n",
       " ['Her hips in slow-mo on the floor when we grind\\\\'],\n",
       " [\"As Long as she ain't stopping\", \" homie I ain't stopping\\\\\"],\n",
       " ['Dripping wet with sweat man its on and popping\\\\'],\n",
       " ['All my champagne campaign', ' bottle after bottle its on\\\\'],\n",
       " [\"And we gon' sip 'til every bubble in every bottle is gone\\\\\"],\n",
       " ['}']]"
      ]
     },
     "execution_count": 9,
     "metadata": {},
     "output_type": "execute_result"
    }
   ],
   "source": [
    "results"
   ]
  },
  {
   "cell_type": "code",
   "execution_count": null,
   "metadata": {
    "collapsed": true
   },
   "outputs": [],
   "source": []
  }
 ],
 "metadata": {
  "kernelspec": {
   "display_name": "Python 3",
   "language": "python",
   "name": "python3"
  },
  "language_info": {
   "codemirror_mode": {
    "name": "ipython",
    "version": 3
   },
   "file_extension": ".py",
   "mimetype": "text/x-python",
   "name": "python",
   "nbconvert_exporter": "python",
   "pygments_lexer": "ipython3",
   "version": "3.6.0"
  }
 },
 "nbformat": 4,
 "nbformat_minor": 2
}
